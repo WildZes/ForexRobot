{
 "cells": [
  {
   "cell_type": "code",
   "execution_count": 1,
   "metadata": {},
   "outputs": [
    {
     "data": {
      "text/plain": [
       "'\\nimport matplotlib.pyplot as plt\\nfrom matplotlib.pyplot import imread\\n\\nimg = imread(\\'pentagon.png\\')\\n\\nprint(\\'image shape: \\', img.shape)\\n\\nplt.imshow(img)\\n\\nplt.savefig(\"image.png\", bbox_inches=\\'tight\\')\\n\\nplt.close()\\n'"
      ]
     },
     "execution_count": 1,
     "metadata": {},
     "output_type": "execute_result"
    }
   ],
   "source": [
    "#Not implemented in project\n",
    "\n",
    "'''\n",
    "import matplotlib.pyplot as plt\n",
    "from matplotlib.pyplot import imread\n",
    "\n",
    "img = imread('pentagon.png')\n",
    "\n",
    "print('image shape: ', img.shape)\n",
    "\n",
    "plt.imshow(img)\n",
    "\n",
    "plt.savefig(\"image.png\", bbox_inches='tight')\n",
    "\n",
    "plt.close()\n",
    "'''"
   ]
  },
  {
   "cell_type": "code",
   "execution_count": 2,
   "metadata": {},
   "outputs": [],
   "source": [
    "#plt.imshow(img)"
   ]
  },
  {
   "cell_type": "code",
   "execution_count": 3,
   "metadata": {},
   "outputs": [
    {
     "data": {
      "text/plain": [
       "'\\nimport math\\nimport numpy as np\\n\\nimg_shape = img.shape\\n\\nx_max = img_shape[0]\\ny_max = img_shape[1]\\n\\ntheta_max = 1.0 * math.pi\\ntheta_min = 0.0\\n\\nr_min = 0.0\\nr_max = math.hypot(x_max, y_max)\\n\\nr_dim = 200\\ntheta_dim = 300\\n\\nhough_space = np.zeros((r_dim,theta_dim))\\n'"
      ]
     },
     "execution_count": 3,
     "metadata": {},
     "output_type": "execute_result"
    }
   ],
   "source": [
    "#Not implemented in project\n",
    "\n",
    "'''\n",
    "import math\n",
    "import numpy as np\n",
    "\n",
    "img_shape = img.shape\n",
    "\n",
    "x_max = img_shape[0]\n",
    "y_max = img_shape[1]\n",
    "\n",
    "theta_max = 1.0 * math.pi\n",
    "theta_min = 0.0\n",
    "\n",
    "r_min = 0.0\n",
    "r_max = math.hypot(x_max, y_max)\n",
    "\n",
    "r_dim = 200\n",
    "theta_dim = 300\n",
    "\n",
    "hough_space = np.zeros((r_dim,theta_dim))\n",
    "'''"
   ]
  },
  {
   "cell_type": "markdown",
   "metadata": {},
   "source": [
    "To be continued:\n",
    "https://www.science-emergence.com/Articles/Implementing-a-simple-python-code-to-detect-straight-lines-using-Hough-transform/\n",
    "\n",
    "Trend lines will be calculated with mathematical methods."
   ]
  },
  {
   "cell_type": "code",
   "execution_count": 4,
   "metadata": {},
   "outputs": [],
   "source": [
    "import pandas as pd\n",
    "from MetaTrader5 import *\n",
    "MT5Initialize()\n",
    "MT5WaitForTerminal()\n",
    "from datetime import datetime as dt\n",
    "eurusd_rates = MT5CopyRatesRange(\"EURUSD\", MT5_TIMEFRAME_H4, dt(2019,3,31,0), dt(2019,4,7,0))\n",
    "MT5Shutdown()\n",
    "quotes = pd.DataFrame(list(eurusd_rates), columns=['Time','Open','High','Low','Close',\n",
    "                                                   'Tick_Vol','Spread','Real_Vol']).set_index('Time')"
   ]
  },
  {
   "cell_type": "code",
   "execution_count": 5,
   "metadata": {},
   "outputs": [
    {
     "name": "stdout",
     "output_type": "stream",
     "text": [
      "[1.12258 1.12309 1.12193 1.12278 1.12277 1.12348 1.12239 1.12336 1.12336\n",
      " 1.12496 1.12271 1.12458 1.12455 1.12484 1.12267 1.12344 1.12344 1.12449\n",
      " 1.12038 1.12059 1.12059 1.12133 1.12036 1.12117 1.12121 1.12121 1.11981\n",
      " 1.12052 1.12052 1.12054 1.11954 1.1202  1.1202  1.1211  1.11898 1.11977\n",
      " 1.11977 1.12117 1.11967 1.12052 1.12052 1.12075 1.11833 1.11965 1.11965\n",
      " 1.12157 1.11915 1.12033 1.12037 1.12168 1.11995 1.1216  1.12159 1.12262\n",
      " 1.12122 1.12225 1.12224 1.12446 1.12148 1.12429 1.12431 1.12543 1.12335\n",
      " 1.12341 1.12339 1.12487 1.12247 1.12439 1.12439 1.12478 1.12311 1.12312\n",
      " 1.12324 1.12472 1.12318 1.1244  1.1244  1.12451 1.12364 1.12406 1.12406\n",
      " 1.12472 1.12302 1.12313 1.12313 1.12359 1.12122 1.12171 1.12171 1.12246\n",
      " 1.12056 1.12188 1.12187 1.12265 1.1213  1.12191 1.122   1.12286 1.1217\n",
      " 1.1222  1.12219 1.12278 1.12218 1.12265 1.12265 1.12361 1.12243 1.12296\n",
      " 1.12296 1.12476 1.12165 1.12356 1.12357 1.12385 1.12096 1.12142 1.12142\n",
      " 1.12185 1.12102 1.12152]\n"
     ]
    }
   ],
   "source": [
    "import numpy as np\n",
    "y = np.array(quotes[['Open', 'High', 'Low', 'Close']]).ravel()\n",
    "print(y)"
   ]
  },
  {
   "cell_type": "code",
   "execution_count": 6,
   "metadata": {},
   "outputs": [
    {
     "name": "stdout",
     "output_type": "stream",
     "text": [
      "['2019-04-01T03:00:00.000000000' '2019-04-01T07:00:00.000000000'\n",
      " '2019-04-01T11:00:00.000000000' '2019-04-01T15:00:00.000000000'\n",
      " '2019-04-01T19:00:00.000000000' '2019-04-01T23:00:00.000000000'\n",
      " '2019-04-02T03:00:00.000000000' '2019-04-02T07:00:00.000000000'\n",
      " '2019-04-02T11:00:00.000000000' '2019-04-02T15:00:00.000000000'\n",
      " '2019-04-02T19:00:00.000000000' '2019-04-02T23:00:00.000000000'\n",
      " '2019-04-03T03:00:00.000000000' '2019-04-03T07:00:00.000000000'\n",
      " '2019-04-03T11:00:00.000000000' '2019-04-03T15:00:00.000000000'\n",
      " '2019-04-03T19:00:00.000000000' '2019-04-03T23:00:00.000000000'\n",
      " '2019-04-04T03:00:00.000000000' '2019-04-04T07:00:00.000000000'\n",
      " '2019-04-04T11:00:00.000000000' '2019-04-04T15:00:00.000000000'\n",
      " '2019-04-04T19:00:00.000000000' '2019-04-04T23:00:00.000000000'\n",
      " '2019-04-05T03:00:00.000000000' '2019-04-05T07:00:00.000000000'\n",
      " '2019-04-05T11:00:00.000000000' '2019-04-05T15:00:00.000000000'\n",
      " '2019-04-05T19:00:00.000000000' '2019-04-05T23:00:00.000000000']\n",
      "<class 'numpy.ndarray'>\n"
     ]
    }
   ],
   "source": [
    "import matplotlib.dates as mdates\n",
    "x = np.array(quotes.index).ravel()\n",
    "print(x)\n",
    "x = np.array([(lambda d: mdates.date2num(d))(d) for d in x for _ in (0,1,2,3)])\n",
    "print(type(x))"
   ]
  },
  {
   "cell_type": "markdown",
   "metadata": {},
   "source": [
    "From: https://docs.scipy.org/doc/numpy/reference/generated/numpy.linalg.lstsq.html\n",
    "By examining the coefficients, we see that the line should have a gradient of roughly 1 and cut the y-axis at, more or less, -1.\n",
    "\n",
    "We can rewrite the line equation as y = Ap, where A = [[x 1]] and p = [[m], [c]]. Now use lstsq to solve for p:"
   ]
  },
  {
   "cell_type": "code",
   "execution_count": 7,
   "metadata": {},
   "outputs": [],
   "source": [
    "A = np.vstack([x, np.ones(len(x))]).T"
   ]
  },
  {
   "cell_type": "code",
   "execution_count": 8,
   "metadata": {},
   "outputs": [
    {
     "name": "stdout",
     "output_type": "stream",
     "text": [
      "0.00018893993325320117 -138.15529276992754\n",
      "<class 'numpy.ndarray'>\n"
     ]
    }
   ],
   "source": [
    "m, c = np.linalg.lstsq(A, y, rcond=None)[0]\n",
    "print(m, c)\n",
    "print(type(y))"
   ]
  },
  {
   "cell_type": "code",
   "execution_count": 9,
   "metadata": {},
   "outputs": [],
   "source": [
    "import math\n",
    "def dot(vA, vB):\n",
    "    return vA[0]*vB[0]+vA[1]*vB[1]\n",
    "def ang(lineA, lineB):\n",
    "    # Get nicer vector form\n",
    "    vA = [(lineA[0][0]-lineA[1][0]), (lineA[0][1]-lineA[1][1])]\n",
    "    vB = [(lineB[0][0]-lineB[1][0]), (lineB[0][1]-lineB[1][1])]\n",
    "    # Get dot prod\n",
    "    dot_prod = dot(vA, vB)\n",
    "    # Get magnitudes\n",
    "    magA = dot(vA, vA)**0.5\n",
    "    magB = dot(vB, vB)**0.5\n",
    "    # Get cosine value\n",
    "    cos_ = dot_prod/magA/magB\n",
    "    # Get angle in radians and then convert to degrees\n",
    "    angle = math.acos(dot_prod/magB/magA)\n",
    "    # Basically doing angle <- angle mod 360\n",
    "    ang_deg = math.degrees(angle)%360\n",
    "\n",
    "    if ang_deg-180>=0:\n",
    "        # As in if statement\n",
    "        return 360 - ang_deg\n",
    "    else: \n",
    "\n",
    "        return ang_deg"
   ]
  },
  {
   "cell_type": "code",
   "execution_count": 15,
   "metadata": {},
   "outputs": [
    {
     "name": "stdout",
     "output_type": "stream",
     "text": [
      "0.010825460662845201\n"
     ]
    },
    {
     "data": {
      "image/png": "[encoded data removed]",
      "text/plain": [
       "<Figure size 432x288 with 1 Axes>"
      ]
     },
     "metadata": {
      "needs_background": "light"
     },
     "output_type": "display_data"
    }
   ],
   "source": [
    "lineA = ((x[0],x[0]*m+c), (x[len(x)-1], x[len(x)-1]*m+c))\n",
    "lineB = ((x[0],x[0]*m+c), (x[len(x)-1], x[0]*m+c))\n",
    "\n",
    "print(ang(lineA, lineB))\n",
    "\n",
    "import matplotlib.pyplot as plt\n",
    "plt.plot(x, y, 'o', label='Original data', markersize=10)\n",
    "plt.plot(x, x*m+c, 'r', label='Fitted line')\n",
    "plt.plot([x[0], x[len(x)-1]], [x[0]*m+c, x[0]*m+c], 'g')\n",
    "plt.legend()\n",
    "plt.show()"
   ]
  },
  {
   "cell_type": "markdown",
   "metadata": {},
   "source": [
    "Code below will try function from https://kite.trade/forum/discussion/1047/a-simple-python-function-to-detect-support-resistance-levels"
   ]
  },
  {
   "cell_type": "code",
   "execution_count": 11,
   "metadata": {},
   "outputs": [],
   "source": [
    "def supres(ltp, n):\n",
    "    \"\"\"\n",
    "    This function takes a numpy array of last traded price\n",
    "    and returns a list of support and resistance levels \n",
    "    respectively. n is the number of entries to be scanned.\n",
    "    \"\"\"\n",
    "    from scipy.signal import savgol_filter as smooth\n",
    "\n",
    "    #converting n to a nearest even number\n",
    "    if n%2 != 0:\n",
    "        n += 1\n",
    "    \n",
    "    n_ltp = ltp.shape[0]\n",
    "\n",
    "    # smoothening the curve\n",
    "    ltp_s = smooth(ltp, (n+1), 3) \n",
    "\n",
    "    #taking a simple derivative\n",
    "    ltp_d = np.zeros(n_ltp)\n",
    "    ltp_d[1:] = np.subtract(ltp_s[1:], ltp_s[:-1])\n",
    " \n",
    "    resistance = []\n",
    "    support = []\n",
    "    \n",
    "    for i in range(n_ltp - n):\n",
    "        arr_sl = ltp_d[i:(i+n)]\n",
    "        first = arr_sl[:int(n/2)] #first half\n",
    "        last = arr_sl[int(n/2):] #second half\n",
    "        \n",
    "        r_1 = np.sum(first > 0)\n",
    "        r_2 = np.sum(last < 0)\n",
    "\n",
    "        s_1 = np.sum(first < 0)\n",
    "        s_2 = np.sum(last > 0)\n",
    "\n",
    "        #local maxima detection\n",
    "        if (r_1 == (n/2)) and (r_2 == (n/2)): \n",
    "            resistance.append(ltp[i+(int(n/2)-1)])\n",
    "\n",
    "        #local minima detection\n",
    "        if (s_1 == (n/2)) and (s_2 == (n/2)): \n",
    "            support.append(ltp[i+(int(n/2)-1)])\n",
    "\n",
    "    return support, resistance"
   ]
  },
  {
   "cell_type": "code",
   "execution_count": 12,
   "metadata": {},
   "outputs": [
    {
     "data": {
      "image/png": "[encoded data removed]",
      "text/plain": [
       "<Figure size 432x288 with 1 Axes>"
      ]
     },
     "metadata": {
      "needs_background": "light"
     },
     "output_type": "display_data"
    }
   ],
   "source": [
    "from scipy.signal import savgol_filter as smooth\n",
    "plt.plot(x, y, 'o', label='Original data', markersize=10)\n",
    "plt.plot(x, smooth(y, 7, 3), 'r', label='Smoothed data')\n",
    "plt.plot([min(x), max(x)], [1.12961, 1.12961], 'y', label='Levels')\n",
    "plt.plot([min(x), max(x)], [1.12904, 1.12904], 'y')\n",
    "plt.plot([min(x), max(x)], [1.13253, 1.13253], 'y')\n",
    "plt.plot([min(x), max(x)], [1.12866, 1.12866], 'y')\n",
    "plt.plot([min(x), max(x)], [1.12724, 1.12724], 'y')\n",
    "plt.legend()\n",
    "plt.show()"
   ]
  },
  {
   "cell_type": "code",
   "execution_count": 13,
   "metadata": {},
   "outputs": [
    {
     "name": "stdout",
     "output_type": "stream",
     "text": [
      "[1.12258 1.12309 1.12193 1.12278 1.12277 1.12348 1.12239 1.12336 1.12336\n",
      " 1.12496 1.12271 1.12458 1.12455 1.12484 1.12267 1.12344 1.12344 1.12449\n",
      " 1.12038 1.12059 1.12059 1.12133 1.12036 1.12117 1.12121 1.12121 1.11981\n",
      " 1.12052 1.12052 1.12054 1.11954 1.1202  1.1202  1.1211  1.11898 1.11977\n",
      " 1.11977 1.12117 1.11967 1.12052 1.12052 1.12075 1.11833 1.11965 1.11965\n",
      " 1.12157 1.11915 1.12033 1.12037 1.12168 1.11995 1.1216  1.12159 1.12262\n",
      " 1.12122 1.12225 1.12224 1.12446 1.12148 1.12429 1.12431 1.12543 1.12335\n",
      " 1.12341 1.12339 1.12487 1.12247 1.12439 1.12439 1.12478 1.12311 1.12312\n",
      " 1.12324 1.12472 1.12318 1.1244  1.1244  1.12451 1.12364 1.12406 1.12406\n",
      " 1.12472 1.12302 1.12313 1.12313 1.12359 1.12122 1.12171 1.12171 1.12246\n",
      " 1.12056 1.12188 1.12187 1.12265 1.1213  1.12191 1.122   1.12286 1.1217\n",
      " 1.1222  1.12219 1.12278 1.12218 1.12265 1.12265 1.12361 1.12243 1.12296\n",
      " 1.12296 1.12476 1.12165 1.12356 1.12357 1.12385 1.12096 1.12142 1.12142\n",
      " 1.12185 1.12102 1.12152]\n",
      "[737150.125      737150.125      737150.125      737150.125\n",
      " 737150.29166667 737150.29166667 737150.29166667 737150.29166667\n",
      " 737150.45833333 737150.45833333 737150.45833333 737150.45833333\n",
      " 737150.625      737150.625      737150.625      737150.625\n",
      " 737150.79166667 737150.79166667 737150.79166667 737150.79166667\n",
      " 737150.95833333 737150.95833333 737150.95833333 737150.95833333\n",
      " 737151.125      737151.125      737151.125      737151.125\n",
      " 737151.29166667 737151.29166667 737151.29166667 737151.29166667\n",
      " 737151.45833333 737151.45833333 737151.45833333 737151.45833333\n",
      " 737151.625      737151.625      737151.625      737151.625\n",
      " 737151.79166667 737151.79166667 737151.79166667 737151.79166667\n",
      " 737151.95833333 737151.95833333 737151.95833333 737151.95833333\n",
      " 737152.125      737152.125      737152.125      737152.125\n",
      " 737152.29166667 737152.29166667 737152.29166667 737152.29166667\n",
      " 737152.45833333 737152.45833333 737152.45833333 737152.45833333\n",
      " 737152.625      737152.625      737152.625      737152.625\n",
      " 737152.79166667 737152.79166667 737152.79166667 737152.79166667\n",
      " 737152.95833333 737152.95833333 737152.95833333 737152.95833333\n",
      " 737153.125      737153.125      737153.125      737153.125\n",
      " 737153.29166667 737153.29166667 737153.29166667 737153.29166667\n",
      " 737153.45833333 737153.45833333 737153.45833333 737153.45833333\n",
      " 737153.625      737153.625      737153.625      737153.625\n",
      " 737153.79166667 737153.79166667 737153.79166667 737153.79166667\n",
      " 737153.95833333 737153.95833333 737153.95833333 737153.95833333\n",
      " 737154.125      737154.125      737154.125      737154.125\n",
      " 737154.29166667 737154.29166667 737154.29166667 737154.29166667\n",
      " 737154.45833333 737154.45833333 737154.45833333 737154.45833333\n",
      " 737154.625      737154.625      737154.625      737154.625\n",
      " 737154.79166667 737154.79166667 737154.79166667 737154.79166667\n",
      " 737154.95833333 737154.95833333 737154.95833333 737154.95833333]\n"
     ]
    }
   ],
   "source": [
    "print(y)\n",
    "print(x)"
   ]
  },
  {
   "cell_type": "code",
   "execution_count": 14,
   "metadata": {},
   "outputs": [
    {
     "name": "stdout",
     "output_type": "stream",
     "text": [
      "([1.12059, 1.11833, 1.12324], [1.12117, 1.12052])\n"
     ]
    }
   ],
   "source": [
    "print(supres(y,6))"
   ]
  },
  {
   "cell_type": "markdown",
   "metadata": {},
   "source": [
    "Code from https://kite.trade/forum/discussion/1047/a-simple-python-function-to-detect-support-resistance-levels don't know how to apply in project\n",
    "I'll use np.linalg.lstsq method"
   ]
  }
 ],
 "metadata": {
  "kernelspec": {
   "display_name": "Python 3",
   "language": "python",
   "name": "python3"
  },
  "language_info": {
   "codemirror_mode": {
    "name": "ipython",
    "version": 3
   },
   "file_extension": ".py",
   "mimetype": "text/x-python",
   "name": "python",
   "nbconvert_exporter": "python",
   "pygments_lexer": "ipython3",
   "version": "3.7.6"
  }
 },
 "nbformat": 4,
 "nbformat_minor": 2
}
