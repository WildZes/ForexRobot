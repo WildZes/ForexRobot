{
 "cells": [
  {
   "cell_type": "code",
   "execution_count": 1,
   "metadata": {},
   "outputs": [
    {
     "ename": "ModuleNotFoundError",
     "evalue": "No module named 'MetaTrader5'",
     "output_type": "error",
     "traceback": [
      "\u001b[0;31m---------------------------------------------------------------------------\u001b[0m",
      "\u001b[0;31mModuleNotFoundError\u001b[0m                       Traceback (most recent call last)",
      "\u001b[0;32m<ipython-input-1-3c0be3d27c4e>\u001b[0m in \u001b[0;36m<module>\u001b[0;34m\u001b[0m\n\u001b[1;32m      1\u001b[0m \u001b[0;31m#Getting data like in DataGet.ipynb tests\u001b[0m\u001b[0;34m\u001b[0m\u001b[0;34m\u001b[0m\u001b[0;34m\u001b[0m\u001b[0m\n\u001b[1;32m      2\u001b[0m \u001b[0;34m\u001b[0m\u001b[0m\n\u001b[0;32m----> 3\u001b[0;31m \u001b[0;32mfrom\u001b[0m \u001b[0mMetaTrader5\u001b[0m \u001b[0;32mimport\u001b[0m \u001b[0;34m*\u001b[0m\u001b[0;34m\u001b[0m\u001b[0;34m\u001b[0m\u001b[0m\n\u001b[0m\u001b[1;32m      4\u001b[0m \u001b[0mMT5Initialize\u001b[0m\u001b[0;34m(\u001b[0m\u001b[0;34m)\u001b[0m\u001b[0;34m\u001b[0m\u001b[0;34m\u001b[0m\u001b[0m\n\u001b[1;32m      5\u001b[0m \u001b[0mMT5WaitForTerminal\u001b[0m\u001b[0;34m(\u001b[0m\u001b[0;34m)\u001b[0m\u001b[0;34m\u001b[0m\u001b[0;34m\u001b[0m\u001b[0m\n",
      "\u001b[0;31mModuleNotFoundError\u001b[0m: No module named 'MetaTrader5'"
     ]
    }
   ],
   "source": [
    "#Getting data like in DataGet.ipynb tests\n",
    "\n",
    "from MetaTrader5 import *\n",
    "MT5Initialize()\n",
    "MT5WaitForTerminal()\n",
    "from datetime import datetime as dt\n",
    "#Tuple\n",
    "eurusd_rates = MT5CopyRatesRange(\"EURUSD\", MT5_TIMEFRAME_H4, dt(2018,11,25,0), dt(2018,12,2,0))\n",
    "eurusd_h8 = MT5CopyRatesRange(\"EURUSD\", MT5_TIMEFRAME_H8, dt(2018,11,18,0), dt(2018,12,2,0))\n",
    "MT5Shutdown()"
   ]
  },
  {
   "cell_type": "code",
   "execution_count": 2,
   "metadata": {},
   "outputs": [],
   "source": [
    "#Converting data\n",
    "\n",
    "def trend_dir(quotes):\n",
    "    import pandas as pd\n",
    "    import matplotlib.dates as mdates\n",
    "    import numpy as np\n",
    "    _quotes = pd.DataFrame(list(quotes), columns=['Time','Open','High','Low','Close',\n",
    "                                                   'Tick_Vol','Spread','Real_Vol']).set_index('Time')\n",
    "    y = np.array(_quotes[['Open', 'High', 'Low', 'Close']]).ravel()\n",
    "    x = np.array(_quotes.index).ravel()\n",
    "    x = np.array([(lambda d: mdates.date2num(d))(d) for d in x for _ in (0,1,2,3)])\n",
    "    A = np.vstack([x, np.ones(len(x))]).T\n",
    "    m, c = np.linalg.lstsq(A, y, rcond=None)[0]\n",
    "    if m < 0:\n",
    "        _dir = 2\n",
    "    elif m > 0:\n",
    "        _dir = 3\n",
    "    else:\n",
    "        _dir = 'flat' #have to organize check for sideway trend somehow\n",
    "    return _dir"
   ]
  },
  {
   "cell_type": "code",
   "execution_count": 3,
   "metadata": {},
   "outputs": [],
   "source": [
    "#drawing data\n",
    "\n",
    "def candles_draw(quotes):\n",
    "    import pandas as pd\n",
    "    import matplotlib.dates as mdates\n",
    "    import matplotlib.pyplot as plt\n",
    "    from mpl_finance import candlestick_ohlc as cohlc\n",
    "    from pandas.plotting import register_matplotlib_converters\n",
    "    import numpy as np\n",
    "    register_matplotlib_converters()\n",
    "    _quotes = pd.DataFrame(list(quotes), columns=['Time','Open','High','Low','Close',\n",
    "                                                       'Tick_Vol','Spread','Real_Vol']).set_index('Time')\n",
    "    _quotes['Time2'] = _quotes.index\n",
    "    _quotes['Time2'] = _quotes['Time2'].apply(lambda d: mdates.date2num(d.to_pydatetime()))\n",
    "    tuples = [tuple(x) for x in _quotes[['Time2', 'Open', 'High', 'Low', 'Close']].values]\n",
    "    y = np.array([item[trend_dir(quotes)] for item in quotes])\n",
    "    x = np.array(_quotes.index).ravel()\n",
    "    x = np.array([(lambda d: mdates.date2num(d))(d) for d in x])\n",
    "    A = np.vstack([x, np.ones(len(x))]).T\n",
    "    m, c = np.linalg.lstsq(A, y, rcond=None)[0]\n",
    "    OX_ticks_str = [dateFef.strftime('%Y-%m-%d %H:%M') for dateFef in _quotes.index]\n",
    "    OX_ticks_pos = range(len(_quotes['Time2']))\n",
    "    fig, ax = plt.subplots()\n",
    "    ax.xaxis_date()\n",
    "    ax.xaxis.set_major_formatter(mdates.DateFormatter(\"%Y-%m-%d %H:%M\"))\n",
    "    plt.xticks(_quotes.index, rotation=90)\n",
    "    plt.xlabel('Date')\n",
    "    plt.ylabel('Price')\n",
    "    plt.title('EURUSD')\n",
    "    plt.plot(x, x*m+c, 'b')\n",
    "    cohlc(ax, tuples, width=.1, colorup='g', alpha=.4)"
   ]
  },
  {
   "cell_type": "code",
   "execution_count": 4,
   "metadata": {},
   "outputs": [],
   "source": [
    "candles_draw(eurusd_rates)"
   ]
  },
  {
   "cell_type": "code",
   "execution_count": 5,
   "metadata": {},
   "outputs": [
    {
     "data": {
      "image/png": "[encoded data removed]",
      "text/plain": [
       "<Figure size 432x288 with 1 Axes>"
      ]
     },
     "metadata": {
      "needs_background": "light"
     },
     "output_type": "display_data"
    }
   ],
   "source": [
    "candles_draw(eurusd_h8)"
   ]
  },
  {
   "cell_type": "markdown",
   "metadata": {},
   "source": [
    "Maybe examined:\n",
    "dt(2019,5,5,0), dt(2019,5,12,0) - 2019-05-09 11:00 (size of peak above the blue line)\n",
    "dt(2019,4,21,0), dt(2019,4,28,0) - 2019-04-24 07:00 (size of peak below the blue line)\n",
    "dt(2019,4,14,0), dt(2019,4,21,0) - 2019-04-16 11:00 (is it crossline)\n",
    "dt(2019,4,14,0), dt(2019,4,21,0) - 2019-04-16 15:00 (is it crossline)\n",
    "dt(2019,3,31,0), dt(2019,4,7,0) - whole line (is it sideway trend)\n",
    "dt(2019,3,24,0), dt(2019,3,31,0) - whole graph (many examples with similar questions previously asked)\n",
    "dt(2019,3,17,0), dt(2019,3,24,0) - whole line (sideway for sure)\n",
    "dt(2019,3,10,0), dt(2019,3,17,0) - whole graph (a lot of crosslines)\n",
    "dt(2019,3,3,0), dt(2019,3,10,0) - several candles(size of peak above the blue line)\n",
    "dt(2019,2,24,0), dt(2019,3,3,0) - whole line (angle of blue line)\n",
    "dt(2019,2,10,0), dt(2019,2,17,0) - angle of slope may help find pattern for slope\n",
    "dt(2018,12,30,0), dt(2019,1,6,0) - in H4 it's bearish trend in H8 (2week) it's flat, what should i do don't take slope as possible to get into market?\n",
    "dt(2018,12,16,0), dt(2018,12,23,0) - too big difference betwen H4 and H8 (2week) slopes\n",
    "dt(2018,11,25,0), dt(2018,12,2,0) - H4 bullish trend and H8 (2week) bearish trend"
   ]
  }
 ],
 "metadata": {
  "kernelspec": {
   "display_name": "Python 3",
   "language": "python",
   "name": "python3"
  },
  "language_info": {
   "codemirror_mode": {
    "name": "ipython",
    "version": 3
   },
   "file_extension": ".py",
   "mimetype": "text/x-python",
   "name": "python",
   "nbconvert_exporter": "python",
   "pygments_lexer": "ipython3",
   "version": "3.7.4"
  }
 },
 "nbformat": 4,
 "nbformat_minor": 2
}
