{
 "cells": [
  {
   "cell_type": "markdown",
   "metadata": {},
   "source": [
    "Here I'll try to complete task about automatization of the first trading strategy.\n",
    "First of all, I'll make trading algorithm."
   ]
  },
  {
   "cell_type": "markdown",
   "metadata": {},
   "source": [
    "Trading Algorithm:\n",
    "1. Getting all opened trades and count it (oped)\n",
    "2. If oped less than maxTr (maxTr will define from theory in future) then creating array of symbols that are trading now (arrSymbol) else wait an hour and start from the begining (step 1)\n",
    "3. Find pairs (followSymbol, array sorting by 3.2,3.4), that suit the following conditions:  \n",
    "    3.1 Trends of H4 and D1 period are unidirectional  \n",
    "    3.2 Trend of H4 has estimated strength (ength, that will be estimated later)  \n",
    "    3.3 There is no signal of trend's change  \n",
    "    3.4 Trade volume has estimated value (vol, estimates later)  \n",
    "    3.5 Pair is not in arrSymbol array  \n",
    "    3.6 Pair price is lower then up trend line  \n",
    "    3.7 Pair price is higher then down trend line  \n",
    "    3.8 Previous pair trades ended more than 24 hours ago  \n",
    "4. If followSymbol is empty start again step 3\n",
    "5. Follow prices of pairs from followSybol array, to fetch the moment, when price crosses the trend line\n",
    "6. When the moment fetched, open long or short position\n",
    "7. When position is opened (anyone), start all over again (step 1)"
   ]
  },
  {
   "cell_type": "code",
   "execution_count": 1,
   "metadata": {},
   "outputs": [],
   "source": [
    "#List of all currency pairs that will be processed by robot\n",
    "currencyList = ['AUDCAD', 'AUDCHF', 'AUDJPY', 'AUDNZD', 'AUDUSD', 'CADCHF', 'CADJPY', 'CHFJPY', 'EURAUD', 'EURCAD',\n",
    "                'EURCHF', 'EURGBP', 'EURJPY', 'EURNZD', 'EURUSD', 'GBPCHF', 'GBPJPY', 'GBPUSD', 'NZDJPY', 'NZDUSD',\n",
    "                'USDCAD', 'USDCHF', 'USDJPY']"
   ]
  },
  {
   "cell_type": "code",
   "execution_count": 2,
   "metadata": {},
   "outputs": [],
   "source": [
    "from_test_file = \"{'_action': 'OPEN_TRADES', '_trades': {689109449: {'_magic': 123456, '_symbol': 'AUDCAD', '_lots': 0.01000000, '_type': 0, '_open_price': 0.98220000, '_open_time': '2021.01.05 14:42:54', '_SL': 0.97820000, '_TP': 0.99020000, '_pnl': -0.31000000, '_comment': 'zmq_connector-test33'}, 689070055: {'_magic': 123456, '_symbol': 'EURUSD', '_lots': 0.01000000, '_type': 0, '_open_price': 1.22846000, '_open_time': '2021.01.05 13:39:24', '_SL': 1.22446000, '_TP': 1.23646000, '_pnl': -1.78000000, '_comment': 'zmq_connector-test32'}}}\""
   ]
  },
  {
   "cell_type": "code",
   "execution_count": 4,
   "metadata": {},
   "outputs": [
    {
     "data": {
      "text/plain": [
       "['AUDCAD', 'EURUSD']"
      ]
     },
     "execution_count": 4,
     "metadata": {},
     "output_type": "execute_result"
    }
   ],
   "source": [
    "arrSymbol = [ok for ok in currencyList if ok in from_test_file]\n",
    "arrSymbol"
   ]
  }
 ],
 "metadata": {
  "kernelspec": {
   "display_name": "Python 3",
   "language": "python",
   "name": "python3"
  },
  "language_info": {
   "codemirror_mode": {
    "name": "ipython",
    "version": 3
   },
   "file_extension": ".py",
   "mimetype": "text/x-python",
   "name": "python",
   "nbconvert_exporter": "python",
   "pygments_lexer": "ipython3",
   "version": "3.7.6"
  }
 },
 "nbformat": 4,
 "nbformat_minor": 4
}
