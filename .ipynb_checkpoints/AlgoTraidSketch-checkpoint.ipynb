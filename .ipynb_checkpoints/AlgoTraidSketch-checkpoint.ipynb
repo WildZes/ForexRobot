{
 "cells": [
  {
   "cell_type": "markdown",
   "metadata": {},
   "source": [
    "Here I'll try to complete task about automatization of the first trading strategy.\n",
    "First of all, I'll make trading algorithm."
   ]
  },
  {
   "cell_type": "markdown",
   "metadata": {},
   "source": [
    "Trading Algorithm:\n",
    "1. Getting all opened trades and count it (oped)\n",
    "2. If oped less than maxTr (maxTr will define from theory in future) then creating array of symbols that are trading now (arrSymbol)\n",
    "3. Find pairs (followSymbol, array sorting by 3.2,3.4), that suit the following conditions:\n",
    "    3.1 Trends of H4 and D1 period are unidirectional\n",
    "    3.2 Trend of H4 has estimated strength (ength, that will be estimated later)\n",
    "    3.3 There is no signal of trend's change\n",
    "    3.4 Trade volume has estimated value (vol, estimates later)\n",
    "    3.5 Pair is not in arrSymbol array\n",
    "    3.6 Pair price is lower then up trend line\n",
    "    3.7 Pair price is higher then down trend line\n",
    "    3.8 Previous pair trades ended more than 24 hours ago\n",
    "4. If followSymbol is empty start again step 3\n",
    "5. Follow prices of pairs from followSybol array, to fetch the moment, when price crosses the trend line\n",
    "6. When the moment fetched, open long or short position\n",
    "7. When position is opened (anyone), start all over again (step 1)"
   ]
  }
 ],
 "metadata": {
  "kernelspec": {
   "display_name": "Python 3",
   "language": "python",
   "name": "python3"
  },
  "language_info": {
   "codemirror_mode": {
    "name": "ipython",
    "version": 3
   },
   "file_extension": ".py",
   "mimetype": "text/x-python",
   "name": "python",
   "nbconvert_exporter": "python",
   "pygments_lexer": "ipython3",
   "version": "3.7.6"
  }
 },
 "nbformat": 4,
 "nbformat_minor": 4
}
