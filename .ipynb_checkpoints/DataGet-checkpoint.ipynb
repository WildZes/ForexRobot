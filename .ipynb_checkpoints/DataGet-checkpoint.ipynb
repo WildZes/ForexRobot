{
 "cells": [
  {
   "cell_type": "code",
   "execution_count": 2,
   "metadata": {},
   "outputs": [
    {
     "name": "stdout",
     "output_type": "stream",
     "text": [
      "No Python documentation found for 'MetaTrader5'.\n",
      "Use help() to get the interactive help utility.\n",
      "Use help(str) for help on the str class.\n",
      "\n"
     ]
    }
   ],
   "source": [
    "help('MetaTrader5')"
   ]
  },
  {
   "cell_type": "code",
   "execution_count": 1,
   "metadata": {},
   "outputs": [
    {
     "ename": "ModuleNotFoundError",
     "evalue": "No module named 'MetaTrader5'",
     "output_type": "error",
     "traceback": [
      "\u001b[0;31m---------------------------------------------------------------------------\u001b[0m",
      "\u001b[0;31mModuleNotFoundError\u001b[0m                       Traceback (most recent call last)",
      "\u001b[0;32m<ipython-input-1-54e00982c19a>\u001b[0m in \u001b[0;36m<module>\u001b[0;34m\u001b[0m\n\u001b[0;32m----> 1\u001b[0;31m \u001b[0;32mfrom\u001b[0m \u001b[0mMetaTrader5\u001b[0m \u001b[0;32mimport\u001b[0m \u001b[0;34m*\u001b[0m\u001b[0;34m\u001b[0m\u001b[0;34m\u001b[0m\u001b[0m\n\u001b[0m\u001b[1;32m      2\u001b[0m \u001b[0mMT5Initialize\u001b[0m\u001b[0;34m(\u001b[0m\u001b[0;34m)\u001b[0m\u001b[0;34m\u001b[0m\u001b[0;34m\u001b[0m\u001b[0m\n\u001b[1;32m      3\u001b[0m \u001b[0mMT5WaitForTerminal\u001b[0m\u001b[0;34m(\u001b[0m\u001b[0;34m)\u001b[0m\u001b[0;34m\u001b[0m\u001b[0;34m\u001b[0m\u001b[0m\n",
      "\u001b[0;31mModuleNotFoundError\u001b[0m: No module named 'MetaTrader5'"
     ]
    }
   ],
   "source": [
    "from MetaTrader5 import *\n",
    "MT5Initialize()\n",
    "MT5WaitForTerminal()"
   ]
  },
  {
   "cell_type": "code",
   "execution_count": 3,
   "metadata": {},
   "outputs": [
    {
     "data": {
      "text/plain": [
       "tuple"
      ]
     },
     "execution_count": 3,
     "metadata": {},
     "output_type": "execute_result"
    }
   ],
   "source": [
    "from datetime import datetime as dt\n",
    "eurusd_rates = MT5CopyRatesRange(\"EURUSD\", MT5_TIMEFRAME_H4, dt(2019,6,10,0), dt(2019,6,17,0))\n",
    "type(eurusd_rates)"
   ]
  },
  {
   "cell_type": "code",
   "execution_count": 4,
   "metadata": {},
   "outputs": [
    {
     "name": "stdout",
     "output_type": "stream",
     "text": [
      "MT5Rate(time=datetime.datetime(2019, 6, 10, 3, 0), open=1.13224, low=1.13301, high=1.1313900000000001, close=1.13159, tick_volume=3423, spread=3, real_volume=0)\n",
      "MT5Rate(time=datetime.datetime(2019, 6, 10, 7, 0), open=1.13159, low=1.13164, high=1.13062, close=1.13074, tick_volume=4582, spread=3, real_volume=0)\n",
      "MT5Rate(time=datetime.datetime(2019, 6, 10, 11, 0), open=1.13075, low=1.13124, high=1.12897, close=1.12961, tick_volume=8264, spread=8, real_volume=0)\n",
      "MT5Rate(time=datetime.datetime(2019, 6, 10, 15, 0), open=1.1296, low=1.1311, high=1.12952, close=1.1308, tick_volume=8720, spread=8, real_volume=0)\n",
      "MT5Rate(time=datetime.datetime(2019, 6, 10, 19, 0), open=1.13081, low=1.13195, high=1.12904, close=1.13158, tick_volume=11586, spread=5, real_volume=0)\n",
      "MT5Rate(time=datetime.datetime(2019, 6, 10, 23, 0), open=1.13158, low=1.1324, high=1.1309, close=1.1311, tick_volume=5393, spread=4, real_volume=0)\n",
      "MT5Rate(time=datetime.datetime(2019, 6, 11, 3, 0), open=1.13108, low=1.13183, high=1.1308, close=1.13143, tick_volume=2340, spread=4, real_volume=0)\n",
      "MT5Rate(time=datetime.datetime(2019, 6, 11, 7, 0), open=1.13144, low=1.13184, high=1.1307, close=1.1317, tick_volume=4181, spread=4, real_volume=0)\n",
      "MT5Rate(time=datetime.datetime(2019, 6, 11, 11, 0), open=1.13168, low=1.13314, high=1.13112, close=1.13125, tick_volume=9945, spread=5, real_volume=0)\n",
      "MT5Rate(time=datetime.datetime(2019, 6, 11, 15, 0), open=1.13125, low=1.13268, high=1.1301, close=1.13181, tick_volume=15855, spread=8, real_volume=0)\n",
      "MT5Rate(time=datetime.datetime(2019, 6, 11, 19, 0), open=1.13181, low=1.13311, high=1.13085, close=1.13289, tick_volume=16755, spread=6, real_volume=0)\n",
      "MT5Rate(time=datetime.datetime(2019, 6, 11, 23, 0), open=1.13291, low=1.13371, high=1.13242, close=1.13253, tick_volume=5696, spread=3, real_volume=0)\n",
      "MT5Rate(time=datetime.datetime(2019, 6, 12, 3, 0), open=1.13253, low=1.13318, high=1.13253, close=1.1329, tick_volume=2508, spread=4, real_volume=0)\n",
      "MT5Rate(time=datetime.datetime(2019, 6, 12, 7, 0), open=1.13289, low=1.13341, high=1.13259, close=1.13335, tick_volume=4827, spread=5, real_volume=0)\n",
      "MT5Rate(time=datetime.datetime(2019, 6, 12, 11, 0), open=1.13335, low=1.1343, high=1.13289, close=1.13337, tick_volume=10802, spread=5, real_volume=0)\n",
      "MT5Rate(time=datetime.datetime(2019, 6, 12, 15, 0), open=1.13337, low=1.13402, high=1.13116, close=1.13194, tick_volume=16172, spread=6, real_volume=0)\n",
      "MT5Rate(time=datetime.datetime(2019, 6, 12, 19, 0), open=1.13193, low=1.13255, high=1.12888, close=1.12968, tick_volume=15879, spread=3, real_volume=0)\n",
      "MT5Rate(time=datetime.datetime(2019, 6, 12, 23, 0), open=1.12968, low=1.1298, high=1.1282, close=1.12866, tick_volume=5164, spread=4, real_volume=0)\n",
      "MT5Rate(time=datetime.datetime(2019, 6, 13, 3, 0), open=1.12865, low=1.12952, high=1.12865, close=1.12902, tick_volume=2529, spread=3, real_volume=0)\n",
      "MT5Rate(time=datetime.datetime(2019, 6, 13, 7, 0), open=1.12902, low=1.12979, high=1.12876, close=1.12975, tick_volume=5488, spread=5, real_volume=0)\n",
      "MT5Rate(time=datetime.datetime(2019, 6, 13, 11, 0), open=1.12974, low=1.13033, high=1.12852, close=1.12912, tick_volume=9981, spread=4, real_volume=0)\n",
      "MT5Rate(time=datetime.datetime(2019, 6, 13, 15, 0), open=1.12911, low=1.12965, high=1.12732, close=1.12781, tick_volume=10241, spread=3, real_volume=0)\n",
      "MT5Rate(time=datetime.datetime(2019, 6, 13, 19, 0), open=1.12781, low=1.12838, high=1.12679, close=1.12757, tick_volume=13000, spread=8, real_volume=0)\n",
      "MT5Rate(time=datetime.datetime(2019, 6, 13, 23, 0), open=1.12758, low=1.12845, high=1.12727, close=1.12761, tick_volume=5672, spread=4, real_volume=0)\n",
      "MT5Rate(time=datetime.datetime(2019, 6, 14, 3, 0), open=1.12761, low=1.12818, high=1.12751, close=1.12784, tick_volume=2396, spread=4, real_volume=0)\n",
      "MT5Rate(time=datetime.datetime(2019, 6, 14, 7, 0), open=1.12784, low=1.12802, high=1.12697, close=1.12724, tick_volume=4703, spread=4, real_volume=0)\n",
      "MT5Rate(time=datetime.datetime(2019, 6, 14, 11, 0), open=1.12724, low=1.12888, high=1.12694, close=1.12794, tick_volume=9631, spread=8, real_volume=0)\n",
      "MT5Rate(time=datetime.datetime(2019, 6, 14, 15, 0), open=1.12794, low=1.12794, high=1.12307, close=1.1231, tick_volume=17365, spread=8, real_volume=0)\n",
      "MT5Rate(time=datetime.datetime(2019, 6, 14, 19, 0), open=1.1231, low=1.12455, high=1.12057, close=1.12081, tick_volume=17904, spread=5, real_volume=0)\n",
      "MT5Rate(time=datetime.datetime(2019, 6, 14, 23, 0), open=1.12081, low=1.12135, high=1.1202, close=1.12103, tick_volume=5588, spread=4, real_volume=0)\n"
     ]
    }
   ],
   "source": [
    "for x in eurusd_rates:\n",
    "    print(x)"
   ]
  },
  {
   "cell_type": "code",
   "execution_count": 5,
   "metadata": {},
   "outputs": [
    {
     "data": {
      "text/plain": [
       "True"
      ]
     },
     "execution_count": 5,
     "metadata": {},
     "output_type": "execute_result"
    }
   ],
   "source": [
    "MT5Shutdown()"
   ]
  },
  {
   "cell_type": "code",
   "execution_count": 6,
   "metadata": {},
   "outputs": [
    {
     "name": "stdout",
     "output_type": "stream",
     "text": [
      "                     0        1        2        3        4      5  6  7\n",
      "0  2019-06-10 03:00:00  1.13224  1.13301  1.13139  1.13159   3423  3  0\n",
      "1  2019-06-10 07:00:00  1.13159  1.13164  1.13062  1.13074   4582  3  0\n",
      "2  2019-06-10 11:00:00  1.13075  1.13124  1.12897  1.12961   8264  8  0\n",
      "3  2019-06-10 15:00:00  1.12960  1.13110  1.12952  1.13080   8720  8  0\n",
      "4  2019-06-10 19:00:00  1.13081  1.13195  1.12904  1.13158  11586  5  0\n",
      "5  2019-06-10 23:00:00  1.13158  1.13240  1.13090  1.13110   5393  4  0\n",
      "6  2019-06-11 03:00:00  1.13108  1.13183  1.13080  1.13143   2340  4  0\n",
      "7  2019-06-11 07:00:00  1.13144  1.13184  1.13070  1.13170   4181  4  0\n",
      "8  2019-06-11 11:00:00  1.13168  1.13314  1.13112  1.13125   9945  5  0\n",
      "9  2019-06-11 15:00:00  1.13125  1.13268  1.13010  1.13181  15855  8  0\n",
      "10 2019-06-11 19:00:00  1.13181  1.13311  1.13085  1.13289  16755  6  0\n",
      "11 2019-06-11 23:00:00  1.13291  1.13371  1.13242  1.13253   5696  3  0\n",
      "12 2019-06-12 03:00:00  1.13253  1.13318  1.13253  1.13290   2508  4  0\n",
      "13 2019-06-12 07:00:00  1.13289  1.13341  1.13259  1.13335   4827  5  0\n",
      "14 2019-06-12 11:00:00  1.13335  1.13430  1.13289  1.13337  10802  5  0\n",
      "15 2019-06-12 15:00:00  1.13337  1.13402  1.13116  1.13194  16172  6  0\n",
      "16 2019-06-12 19:00:00  1.13193  1.13255  1.12888  1.12968  15879  3  0\n",
      "17 2019-06-12 23:00:00  1.12968  1.12980  1.12820  1.12866   5164  4  0\n",
      "18 2019-06-13 03:00:00  1.12865  1.12952  1.12865  1.12902   2529  3  0\n",
      "19 2019-06-13 07:00:00  1.12902  1.12979  1.12876  1.12975   5488  5  0\n",
      "20 2019-06-13 11:00:00  1.12974  1.13033  1.12852  1.12912   9981  4  0\n",
      "21 2019-06-13 15:00:00  1.12911  1.12965  1.12732  1.12781  10241  3  0\n",
      "22 2019-06-13 19:00:00  1.12781  1.12838  1.12679  1.12757  13000  8  0\n",
      "23 2019-06-13 23:00:00  1.12758  1.12845  1.12727  1.12761   5672  4  0\n",
      "24 2019-06-14 03:00:00  1.12761  1.12818  1.12751  1.12784   2396  4  0\n",
      "25 2019-06-14 07:00:00  1.12784  1.12802  1.12697  1.12724   4703  4  0\n",
      "26 2019-06-14 11:00:00  1.12724  1.12888  1.12694  1.12794   9631  8  0\n",
      "27 2019-06-14 15:00:00  1.12794  1.12794  1.12307  1.12310  17365  8  0\n",
      "28 2019-06-14 19:00:00  1.12310  1.12455  1.12057  1.12081  17904  5  0\n",
      "29 2019-06-14 23:00:00  1.12081  1.12135  1.12020  1.12103   5588  4  0\n"
     ]
    }
   ],
   "source": [
    "import pandas as pd\n",
    "print(pd.DataFrame(list(eurusd_rates)))"
   ]
  },
  {
   "cell_type": "code",
   "execution_count": 7,
   "metadata": {},
   "outputs": [
    {
     "name": "stdout",
     "output_type": "stream",
     "text": [
      "                        Open     High      Low    Close  Tick_Vol  Spread  \\\n",
      "Time                                                                        \n",
      "2019-06-10 03:00:00  1.13224  1.13301  1.13139  1.13159      3423       3   \n",
      "2019-06-10 07:00:00  1.13159  1.13164  1.13062  1.13074      4582       3   \n",
      "2019-06-10 11:00:00  1.13075  1.13124  1.12897  1.12961      8264       8   \n",
      "2019-06-10 15:00:00  1.12960  1.13110  1.12952  1.13080      8720       8   \n",
      "2019-06-10 19:00:00  1.13081  1.13195  1.12904  1.13158     11586       5   \n",
      "2019-06-10 23:00:00  1.13158  1.13240  1.13090  1.13110      5393       4   \n",
      "2019-06-11 03:00:00  1.13108  1.13183  1.13080  1.13143      2340       4   \n",
      "2019-06-11 07:00:00  1.13144  1.13184  1.13070  1.13170      4181       4   \n",
      "2019-06-11 11:00:00  1.13168  1.13314  1.13112  1.13125      9945       5   \n",
      "2019-06-11 15:00:00  1.13125  1.13268  1.13010  1.13181     15855       8   \n",
      "2019-06-11 19:00:00  1.13181  1.13311  1.13085  1.13289     16755       6   \n",
      "2019-06-11 23:00:00  1.13291  1.13371  1.13242  1.13253      5696       3   \n",
      "2019-06-12 03:00:00  1.13253  1.13318  1.13253  1.13290      2508       4   \n",
      "2019-06-12 07:00:00  1.13289  1.13341  1.13259  1.13335      4827       5   \n",
      "2019-06-12 11:00:00  1.13335  1.13430  1.13289  1.13337     10802       5   \n",
      "2019-06-12 15:00:00  1.13337  1.13402  1.13116  1.13194     16172       6   \n",
      "2019-06-12 19:00:00  1.13193  1.13255  1.12888  1.12968     15879       3   \n",
      "2019-06-12 23:00:00  1.12968  1.12980  1.12820  1.12866      5164       4   \n",
      "2019-06-13 03:00:00  1.12865  1.12952  1.12865  1.12902      2529       3   \n",
      "2019-06-13 07:00:00  1.12902  1.12979  1.12876  1.12975      5488       5   \n",
      "2019-06-13 11:00:00  1.12974  1.13033  1.12852  1.12912      9981       4   \n",
      "2019-06-13 15:00:00  1.12911  1.12965  1.12732  1.12781     10241       3   \n",
      "2019-06-13 19:00:00  1.12781  1.12838  1.12679  1.12757     13000       8   \n",
      "2019-06-13 23:00:00  1.12758  1.12845  1.12727  1.12761      5672       4   \n",
      "2019-06-14 03:00:00  1.12761  1.12818  1.12751  1.12784      2396       4   \n",
      "2019-06-14 07:00:00  1.12784  1.12802  1.12697  1.12724      4703       4   \n",
      "2019-06-14 11:00:00  1.12724  1.12888  1.12694  1.12794      9631       8   \n",
      "2019-06-14 15:00:00  1.12794  1.12794  1.12307  1.12310     17365       8   \n",
      "2019-06-14 19:00:00  1.12310  1.12455  1.12057  1.12081     17904       5   \n",
      "2019-06-14 23:00:00  1.12081  1.12135  1.12020  1.12103      5588       4   \n",
      "\n",
      "                     Real_Vol  \n",
      "Time                           \n",
      "2019-06-10 03:00:00         0  \n",
      "2019-06-10 07:00:00         0  \n",
      "2019-06-10 11:00:00         0  \n",
      "2019-06-10 15:00:00         0  \n",
      "2019-06-10 19:00:00         0  \n",
      "2019-06-10 23:00:00         0  \n",
      "2019-06-11 03:00:00         0  \n",
      "2019-06-11 07:00:00         0  \n",
      "2019-06-11 11:00:00         0  \n",
      "2019-06-11 15:00:00         0  \n",
      "2019-06-11 19:00:00         0  \n",
      "2019-06-11 23:00:00         0  \n",
      "2019-06-12 03:00:00         0  \n",
      "2019-06-12 07:00:00         0  \n",
      "2019-06-12 11:00:00         0  \n",
      "2019-06-12 15:00:00         0  \n",
      "2019-06-12 19:00:00         0  \n",
      "2019-06-12 23:00:00         0  \n",
      "2019-06-13 03:00:00         0  \n",
      "2019-06-13 07:00:00         0  \n",
      "2019-06-13 11:00:00         0  \n",
      "2019-06-13 15:00:00         0  \n",
      "2019-06-13 19:00:00         0  \n",
      "2019-06-13 23:00:00         0  \n",
      "2019-06-14 03:00:00         0  \n",
      "2019-06-14 07:00:00         0  \n",
      "2019-06-14 11:00:00         0  \n",
      "2019-06-14 15:00:00         0  \n",
      "2019-06-14 19:00:00         0  \n",
      "2019-06-14 23:00:00         0  \n"
     ]
    }
   ],
   "source": [
    "quotes = pd.DataFrame(list(eurusd_rates), columns=['Time','Open','High','Low','Close',\n",
    "                                                   'Tick_Vol','Spread','Real_Vol']).set_index('Time')\n",
    "print(quotes)"
   ]
  },
  {
   "cell_type": "code",
   "execution_count": 14,
   "metadata": {},
   "outputs": [
    {
     "name": "stdout",
     "output_type": "stream",
     "text": [
      "                        Open     High      Low    Close  Tick_Vol  Spread  \\\n",
      "Time                                                                        \n",
      "2019-06-10 03:00:00  1.13224  1.13301  1.13139  1.13159      3423       3   \n",
      "2019-06-10 07:00:00  1.13159  1.13164  1.13062  1.13074      4582       3   \n",
      "2019-06-10 11:00:00  1.13075  1.13124  1.12897  1.12961      8264       8   \n",
      "2019-06-10 15:00:00  1.12960  1.13110  1.12952  1.13080      8720       8   \n",
      "2019-06-10 19:00:00  1.13081  1.13195  1.12904  1.13158     11586       5   \n",
      "2019-06-10 23:00:00  1.13158  1.13240  1.13090  1.13110      5393       4   \n",
      "2019-06-11 03:00:00  1.13108  1.13183  1.13080  1.13143      2340       4   \n",
      "2019-06-11 07:00:00  1.13144  1.13184  1.13070  1.13170      4181       4   \n",
      "2019-06-11 11:00:00  1.13168  1.13314  1.13112  1.13125      9945       5   \n",
      "2019-06-11 15:00:00  1.13125  1.13268  1.13010  1.13181     15855       8   \n",
      "2019-06-11 19:00:00  1.13181  1.13311  1.13085  1.13289     16755       6   \n",
      "2019-06-11 23:00:00  1.13291  1.13371  1.13242  1.13253      5696       3   \n",
      "2019-06-12 03:00:00  1.13253  1.13318  1.13253  1.13290      2508       4   \n",
      "2019-06-12 07:00:00  1.13289  1.13341  1.13259  1.13335      4827       5   \n",
      "2019-06-12 11:00:00  1.13335  1.13430  1.13289  1.13337     10802       5   \n",
      "2019-06-12 15:00:00  1.13337  1.13402  1.13116  1.13194     16172       6   \n",
      "2019-06-12 19:00:00  1.13193  1.13255  1.12888  1.12968     15879       3   \n",
      "2019-06-12 23:00:00  1.12968  1.12980  1.12820  1.12866      5164       4   \n",
      "2019-06-13 03:00:00  1.12865  1.12952  1.12865  1.12902      2529       3   \n",
      "2019-06-13 07:00:00  1.12902  1.12979  1.12876  1.12975      5488       5   \n",
      "2019-06-13 11:00:00  1.12974  1.13033  1.12852  1.12912      9981       4   \n",
      "2019-06-13 15:00:00  1.12911  1.12965  1.12732  1.12781     10241       3   \n",
      "2019-06-13 19:00:00  1.12781  1.12838  1.12679  1.12757     13000       8   \n",
      "2019-06-13 23:00:00  1.12758  1.12845  1.12727  1.12761      5672       4   \n",
      "2019-06-14 03:00:00  1.12761  1.12818  1.12751  1.12784      2396       4   \n",
      "2019-06-14 07:00:00  1.12784  1.12802  1.12697  1.12724      4703       4   \n",
      "2019-06-14 11:00:00  1.12724  1.12888  1.12694  1.12794      9631       8   \n",
      "2019-06-14 15:00:00  1.12794  1.12794  1.12307  1.12310     17365       8   \n",
      "2019-06-14 19:00:00  1.12310  1.12455  1.12057  1.12081     17904       5   \n",
      "2019-06-14 23:00:00  1.12081  1.12135  1.12020  1.12103      5588       4   \n",
      "\n",
      "                     Real_Vol          Time2  \n",
      "Time                                          \n",
      "2019-06-10 03:00:00         0  737220.125000  \n",
      "2019-06-10 07:00:00         0  737220.291667  \n",
      "2019-06-10 11:00:00         0  737220.458333  \n",
      "2019-06-10 15:00:00         0  737220.625000  \n",
      "2019-06-10 19:00:00         0  737220.791667  \n",
      "2019-06-10 23:00:00         0  737220.958333  \n",
      "2019-06-11 03:00:00         0  737221.125000  \n",
      "2019-06-11 07:00:00         0  737221.291667  \n",
      "2019-06-11 11:00:00         0  737221.458333  \n",
      "2019-06-11 15:00:00         0  737221.625000  \n",
      "2019-06-11 19:00:00         0  737221.791667  \n",
      "2019-06-11 23:00:00         0  737221.958333  \n",
      "2019-06-12 03:00:00         0  737222.125000  \n",
      "2019-06-12 07:00:00         0  737222.291667  \n",
      "2019-06-12 11:00:00         0  737222.458333  \n",
      "2019-06-12 15:00:00         0  737222.625000  \n",
      "2019-06-12 19:00:00         0  737222.791667  \n",
      "2019-06-12 23:00:00         0  737222.958333  \n",
      "2019-06-13 03:00:00         0  737223.125000  \n",
      "2019-06-13 07:00:00         0  737223.291667  \n",
      "2019-06-13 11:00:00         0  737223.458333  \n",
      "2019-06-13 15:00:00         0  737223.625000  \n",
      "2019-06-13 19:00:00         0  737223.791667  \n",
      "2019-06-13 23:00:00         0  737223.958333  \n",
      "2019-06-14 03:00:00         0  737224.125000  \n",
      "2019-06-14 07:00:00         0  737224.291667  \n",
      "2019-06-14 11:00:00         0  737224.458333  \n",
      "2019-06-14 15:00:00         0  737224.625000  \n",
      "2019-06-14 19:00:00         0  737224.791667  \n",
      "2019-06-14 23:00:00         0  737224.958333  \n"
     ]
    }
   ],
   "source": [
    "import matplotlib.dates as mdates\n",
    "import matplotlib.pyplot as plt\n",
    "quotes['Time2'] = quotes.index\n",
    "quotes['Time2'] = quotes['Time2'].apply(lambda d: mdates.date2num(d.to_pydatetime()))\n",
    "print(quotes)"
   ]
  },
  {
   "cell_type": "code",
   "execution_count": 9,
   "metadata": {},
   "outputs": [
    {
     "name": "stdout",
     "output_type": "stream",
     "text": [
      "[(737220.125, 1.13224, 1.13301, 1.1313900000000001, 1.13159), (737220.2916666666, 1.13159, 1.13164, 1.13062, 1.13074), (737220.4583333334, 1.13075, 1.13124, 1.12897, 1.12961), (737220.625, 1.1296, 1.1311, 1.12952, 1.1308), (737220.7916666666, 1.13081, 1.13195, 1.12904, 1.13158), (737220.9583333334, 1.13158, 1.1324, 1.1309, 1.1311), (737221.125, 1.13108, 1.13183, 1.1308, 1.13143), (737221.2916666666, 1.13144, 1.13184, 1.1307, 1.1317), (737221.4583333334, 1.13168, 1.13314, 1.13112, 1.13125), (737221.625, 1.13125, 1.13268, 1.1301, 1.13181), (737221.7916666666, 1.13181, 1.13311, 1.13085, 1.13289), (737221.9583333334, 1.13291, 1.13371, 1.13242, 1.13253), (737222.125, 1.13253, 1.13318, 1.13253, 1.1329), (737222.2916666666, 1.13289, 1.13341, 1.13259, 1.13335), (737222.4583333334, 1.13335, 1.1343, 1.13289, 1.13337), (737222.625, 1.13337, 1.13402, 1.13116, 1.13194), (737222.7916666666, 1.13193, 1.13255, 1.12888, 1.12968), (737222.9583333334, 1.12968, 1.1298, 1.1282, 1.12866), (737223.125, 1.12865, 1.12952, 1.12865, 1.12902), (737223.2916666666, 1.12902, 1.12979, 1.12876, 1.12975), (737223.4583333334, 1.12974, 1.13033, 1.12852, 1.12912), (737223.625, 1.12911, 1.12965, 1.12732, 1.12781), (737223.7916666666, 1.12781, 1.12838, 1.12679, 1.12757), (737223.9583333334, 1.12758, 1.12845, 1.12727, 1.12761), (737224.125, 1.12761, 1.12818, 1.12751, 1.12784), (737224.2916666666, 1.12784, 1.12802, 1.12697, 1.12724), (737224.4583333334, 1.12724, 1.12888, 1.12694, 1.12794), (737224.625, 1.12794, 1.12794, 1.12307, 1.1231), (737224.7916666666, 1.1231, 1.12455, 1.12057, 1.12081), (737224.9583333334, 1.12081, 1.12135, 1.1202, 1.12103)]\n"
     ]
    }
   ],
   "source": [
    "tuples = [tuple(x) for x in quotes[['Time2', 'Open', 'High', 'Low',\n",
    "                                   'Close']].values]\n",
    "print(tuples)"
   ]
  },
  {
   "cell_type": "code",
   "execution_count": 10,
   "metadata": {},
   "outputs": [
    {
     "name": "stdout",
     "output_type": "stream",
     "text": [
      "['2019-06-10 03:00', '2019-06-10 07:00', '2019-06-10 11:00', '2019-06-10 15:00', '2019-06-10 19:00', '2019-06-10 23:00', '2019-06-11 03:00', '2019-06-11 07:00', '2019-06-11 11:00', '2019-06-11 15:00', '2019-06-11 19:00', '2019-06-11 23:00', '2019-06-12 03:00', '2019-06-12 07:00', '2019-06-12 11:00', '2019-06-12 15:00', '2019-06-12 19:00', '2019-06-12 23:00', '2019-06-13 03:00', '2019-06-13 07:00', '2019-06-13 11:00', '2019-06-13 15:00', '2019-06-13 19:00', '2019-06-13 23:00', '2019-06-14 03:00', '2019-06-14 07:00', '2019-06-14 11:00', '2019-06-14 15:00', '2019-06-14 19:00', '2019-06-14 23:00']\n"
     ]
    }
   ],
   "source": [
    "OX_ticks_str = [dateFef.strftime('%Y-%m-%d %H:%M') for dateFef in quotes.index]\n",
    "OX_ticks_pos = range(len(quotes['Time2']))\n",
    "print(OX_ticks_str)"
   ]
  },
  {
   "cell_type": "code",
   "execution_count": 11,
   "metadata": {},
   "outputs": [
    {
     "name": "stderr",
     "output_type": "stream",
     "text": [
      "d:\\projects\\forexrobot\\lib\\site-packages\\pandas\\plotting\\_converter.py:129: FutureWarning: Using an implicitly registered datetime converter for a matplotlib plotting method. The converter was registered by pandas on import. Future versions of pandas will require you to explicitly register matplotlib converters.\n",
      "\n",
      "To register the converters:\n",
      "\t>>> from pandas.plotting import register_matplotlib_converters\n",
      "\t>>> register_matplotlib_converters()\n",
      "  warnings.warn(msg, FutureWarning)\n"
     ]
    },
    {
     "data": {
      "text/plain": [
       "([<matplotlib.lines.Line2D at 0x8b6ae10>,\n",
       "  <matplotlib.lines.Line2D at 0x8b73d30>,\n",
       "  <matplotlib.lines.Line2D at 0x8b73f90>,\n",
       "  <matplotlib.lines.Line2D at 0x8b884b0>,\n",
       "  <matplotlib.lines.Line2D at 0x8b888d0>,\n",
       "  <matplotlib.lines.Line2D at 0x8b88c30>,\n",
       "  <matplotlib.lines.Line2D at 0x8b911b0>,\n",
       "  <matplotlib.lines.Line2D at 0x8b915d0>,\n",
       "  <matplotlib.lines.Line2D at 0x8b919f0>,\n",
       "  <matplotlib.lines.Line2D at 0x8b88d50>,\n",
       "  <matplotlib.lines.Line2D at 0x8b9c1d0>,\n",
       "  <matplotlib.lines.Line2D at 0x8b9c5f0>,\n",
       "  <matplotlib.lines.Line2D at 0x8b9ca10>,\n",
       "  <matplotlib.lines.Line2D at 0x8b9ce30>,\n",
       "  <matplotlib.lines.Line2D at 0x8ba9270>,\n",
       "  <matplotlib.lines.Line2D at 0x8ba9690>,\n",
       "  <matplotlib.lines.Line2D at 0x8ba9ab0>,\n",
       "  <matplotlib.lines.Line2D at 0x8ba9ed0>,\n",
       "  <matplotlib.lines.Line2D at 0x8bb3310>,\n",
       "  <matplotlib.lines.Line2D at 0x8bb3730>,\n",
       "  <matplotlib.lines.Line2D at 0x8bb3b50>,\n",
       "  <matplotlib.lines.Line2D at 0x8bb3f70>,\n",
       "  <matplotlib.lines.Line2D at 0x8bbf3b0>,\n",
       "  <matplotlib.lines.Line2D at 0x8bbf7d0>,\n",
       "  <matplotlib.lines.Line2D at 0x8bbfbf0>,\n",
       "  <matplotlib.lines.Line2D at 0x8b60110>,\n",
       "  <matplotlib.lines.Line2D at 0x8bc9350>,\n",
       "  <matplotlib.lines.Line2D at 0x8bc9770>,\n",
       "  <matplotlib.lines.Line2D at 0x8bc9b90>,\n",
       "  <matplotlib.lines.Line2D at 0x8bc9fb0>],\n",
       " [<matplotlib.patches.Rectangle at 0x8b6aaf0>,\n",
       "  <matplotlib.patches.Rectangle at 0x8b73790>,\n",
       "  <matplotlib.patches.Rectangle at 0x8b881b0>,\n",
       "  <matplotlib.patches.Rectangle at 0x8b885d0>,\n",
       "  <matplotlib.patches.Rectangle at 0x8b889f0>,\n",
       "  <matplotlib.patches.Rectangle at 0x8b88e90>,\n",
       "  <matplotlib.patches.Rectangle at 0x8b912d0>,\n",
       "  <matplotlib.patches.Rectangle at 0x8b916f0>,\n",
       "  <matplotlib.patches.Rectangle at 0x8b91b10>,\n",
       "  <matplotlib.patches.Rectangle at 0x8b91eb0>,\n",
       "  <matplotlib.patches.Rectangle at 0x8b9c2f0>,\n",
       "  <matplotlib.patches.Rectangle at 0x8b9c710>,\n",
       "  <matplotlib.patches.Rectangle at 0x8b9cb30>,\n",
       "  <matplotlib.patches.Rectangle at 0x8b9cf50>,\n",
       "  <matplotlib.patches.Rectangle at 0x8ba9390>,\n",
       "  <matplotlib.patches.Rectangle at 0x8ba97b0>,\n",
       "  <matplotlib.patches.Rectangle at 0x8ba9bd0>,\n",
       "  <matplotlib.patches.Rectangle at 0x8ba9ff0>,\n",
       "  <matplotlib.patches.Rectangle at 0x8bb3430>,\n",
       "  <matplotlib.patches.Rectangle at 0x8bb3850>,\n",
       "  <matplotlib.patches.Rectangle at 0x8bb3c70>,\n",
       "  <matplotlib.patches.Rectangle at 0x8bbf0b0>,\n",
       "  <matplotlib.patches.Rectangle at 0x8bbf4d0>,\n",
       "  <matplotlib.patches.Rectangle at 0x8bbf8f0>,\n",
       "  <matplotlib.patches.Rectangle at 0x8bbfd10>,\n",
       "  <matplotlib.patches.Rectangle at 0x8bc9050>,\n",
       "  <matplotlib.patches.Rectangle at 0x8bc9470>,\n",
       "  <matplotlib.patches.Rectangle at 0x8bc9890>,\n",
       "  <matplotlib.patches.Rectangle at 0x8bc9cb0>,\n",
       "  <matplotlib.patches.Rectangle at 0x8bd40f0>])"
      ]
     },
     "execution_count": 11,
     "metadata": {},
     "output_type": "execute_result"
    },
    {
     "data": {
      "image/png": "[encoded data removed]",
      "text/plain": [
       "<Figure size 432x288 with 1 Axes>"
      ]
     },
     "metadata": {
      "needs_background": "light"
     },
     "output_type": "display_data"
    }
   ],
   "source": [
    "from mpl_finance import candlestick_ohlc as cohlc\n",
    "fig, ax = plt.subplots()\n",
    "ax.xaxis_date()\n",
    "ax.xaxis.set_major_formatter(mdates.DateFormatter(\"%Y-%m-%d %H:%M\"))\n",
    "plt.xticks(quotes.index, rotation=90)\n",
    "plt.xlabel('Date')\n",
    "plt.ylabel('Price')\n",
    "plt.title('EURUSD')\n",
    "cohlc(ax, tuples, width=.1, colorup='g', alpha=.4)"
   ]
  }
 ],
 "metadata": {
  "kernelspec": {
   "display_name": "Python 3",
   "language": "python",
   "name": "python3"
  },
  "language_info": {
   "codemirror_mode": {
    "name": "ipython",
    "version": 3
   },
   "file_extension": ".py",
   "mimetype": "text/x-python",
   "name": "python",
   "nbconvert_exporter": "python",
   "pygments_lexer": "ipython3",
   "version": "3.7.4"
  }
 },
 "nbformat": 4,
 "nbformat_minor": 2
}
