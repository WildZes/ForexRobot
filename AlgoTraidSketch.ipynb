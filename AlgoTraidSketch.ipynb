{
 "cells": [
  {
   "cell_type": "markdown",
   "metadata": {},
   "source": [
    "Here I'll try to complete task about automatization of the first trading strategy.\n",
    "First of all, I'll make trading algorithm."
   ]
  },
  {
   "cell_type": "markdown",
   "metadata": {},
   "source": [
    "Trading Algorithm:\n",
    "1. Getting all opened trades and count it (oped)\n",
    "2. If oped less than maxTr (maxTr will define from theory in future) then creating array of symbols that are trading now (arrSymbol) else wait an hour and start from the begining (step 1)\n",
    "3. Find pairs (followSymbol, array sorting by 3.2,3.4), that suit the following conditions:  \n",
    "    3.1 Trends of H4 and D1 period are unidirectional  \n",
    "    3.2 Trend of H4 has estimated strength (ength, that will be estimated later)  \n",
    "    3.3 There is no signal of trend's change  \n",
    "    3.4 Trade volume has estimated value (vol, estimates later)  \n",
    "    3.5 Pair is not in arrSymbol array  \n",
    "    3.6 Pair price is lower then up trend line  \n",
    "    3.7 Pair price is higher then down trend line  \n",
    "    3.8 Previous pair trades ended more than 24 hours ago  \n",
    "4. If followSymbol is empty start again step 3\n",
    "5. Follow prices of pairs from followSybol array, to fetch the moment, when price crosses the trend line\n",
    "6. When the moment fetched, open long or short position\n",
    "7. When position is opened (anyone), start all over again (step 1)"
   ]
  },
  {
   "cell_type": "code",
   "execution_count": 1,
   "metadata": {},
   "outputs": [],
   "source": [
    "#List of all currency pairs that will be processed by robot\n",
    "currencyList = ['AUDCAD', 'AUDCHF', 'AUDJPY', 'AUDNZD', 'AUDUSD', 'CADCHF', 'CADJPY', 'CHFJPY', 'EURAUD', 'EURCAD',\n",
    "                'EURCHF', 'EURGBP', 'EURJPY', 'EURNZD', 'EURUSD', 'GBPCHF', 'GBPJPY', 'GBPUSD', 'NZDJPY', 'NZDUSD',\n",
    "                'USDCAD', 'USDCHF', 'USDJPY']\n",
    "timeframeList = ['1', '5', '15', '30', '60', '240', '1440', '10080']"
   ]
  },
  {
   "cell_type": "code",
   "execution_count": 2,
   "metadata": {},
   "outputs": [],
   "source": [
    "from_test_file = \"{'_action': 'OPEN_TRADES', '_trades': {689109449: {'_magic': 123456, '_symbol': 'AUDCAD', '_lots': 0.01000000, '_type': 0, '_open_price': 0.98220000, '_open_time': '2021.01.05 14:42:54', '_SL': 0.97820000, '_TP': 0.99020000, '_pnl': -0.31000000, '_comment': 'zmq_connector-test33'}, 689070055: {'_magic': 123456, '_symbol': 'EURUSD', '_lots': 0.01000000, '_type': 0, '_open_price': 1.22846000, '_open_time': '2021.01.05 13:39:24', '_SL': 1.22446000, '_TP': 1.23646000, '_pnl': -1.78000000, '_comment': 'zmq_connector-test32'}}}\""
   ]
  },
  {
   "cell_type": "code",
   "execution_count": 3,
   "metadata": {},
   "outputs": [
    {
     "data": {
      "text/plain": [
       "['AUDCAD', 'EURUSD']"
      ]
     },
     "execution_count": 3,
     "metadata": {},
     "output_type": "execute_result"
    }
   ],
   "source": [
    "arrSymbol = [ok for ok in currencyList if ok in from_test_file]\n",
    "arrSymbol"
   ]
  },
  {
   "cell_type": "code",
   "execution_count": 4,
   "metadata": {},
   "outputs": [],
   "source": [
    "#Don't know how to import function from another file, so function copied from CSVToTrend.ipynb\n",
    "def trend_dir(quotes):\n",
    "    import pandas as pd\n",
    "    import matplotlib.dates as mdates\n",
    "    import numpy as np\n",
    "    _quotes = quotes\n",
    "    y = np.array(_quotes[['Open', 'High', 'Low', 'Close']]).ravel()\n",
    "    x = np.array(_quotes.index).ravel()\n",
    "    x = np.array([(lambda d: mdates.date2num(d))(d) for d in x for _ in (0,1,2,3)])\n",
    "    A = np.vstack([x, np.ones(len(x))]).T\n",
    "    m, c = np.linalg.lstsq(A, y, rcond=None)[0]\n",
    "    if m < 0:\n",
    "        _dir = 1\n",
    "    elif m > 0:\n",
    "        _dir = 2\n",
    "    else:\n",
    "        _dir = 'flat' #have to organize check for sideway trend somehow\n",
    "    return _dir"
   ]
  },
  {
   "cell_type": "code",
   "execution_count": 5,
   "metadata": {},
   "outputs": [],
   "source": [
    "#Used from CSVToTrend.ipynb\n",
    "import pandas as pd\n",
    "col_names=['Date', 'Time','Open','High','Low','Close','Tick_Vol']\n",
    "df = pd.read_csv ('~/anaconda3/envs/FR/EURUSD1440.csv',names=col_names)\n",
    "df['Date'] = df['Date']+' '+df['Time']\n",
    "df['DateTime']=pd.to_datetime(df.pop('Date'))\n",
    "D1 = df[-11:].set_index('DateTime')\n",
    "del D1['Time']\n",
    "df = pd.read_csv ('~/anaconda3/envs/FR/EURUSD240.csv',names=col_names)\n",
    "df['Date'] = df['Date']+' '+df['Time']\n",
    "df['DateTime']=pd.to_datetime(df.pop('Date'))\n",
    "H4 = df[-31:].set_index('DateTime')\n",
    "del H4['Time']"
   ]
  },
  {
   "cell_type": "code",
   "execution_count": 43,
   "metadata": {},
   "outputs": [],
   "source": [
    "#Function creates dataframe with qoutes with specified currency pair and specified timeframe\n",
    "def get_df(path, cur_pair, tf):\n",
    "    import os\n",
    "    import pandas as pd\n",
    "    for name in os.listdir(path):\n",
    "        cur_path = os.path.join(path, name)\n",
    "        if os.path.isfile(cur_path) and cur_pair in name and tf in name:\n",
    "            col_names=['Date', 'Time','Open','High','Low','Close','Tick_Vol']\n",
    "            df = pd.read_csv (cur_path, names=col_names)\n",
    "            df['Date'] = df['Date']+' '+df['Time']\n",
    "            df['DateTime']=pd.to_datetime(df.pop('Date'))\n",
    "            my_df = df[-40:].set_index('DateTime')\n",
    "            del my_df['Time']\n",
    "            return my_df"
   ]
  },
  {
   "cell_type": "code",
   "execution_count": 7,
   "metadata": {},
   "outputs": [
    {
     "data": {
      "text/plain": [
       "True"
      ]
     },
     "execution_count": 7,
     "metadata": {},
     "output_type": "execute_result"
    }
   ],
   "source": [
    "#For \"3.1 Trends of H4 and D1 period are unidirectional\"\n",
    "import os\n",
    "trend_dir(get_df(os.pardir, 'EURUSD', '1440')) == trend_dir(get_df(os.pardir, 'EURUSD', '240'))"
   ]
  },
  {
   "cell_type": "code",
   "execution_count": 8,
   "metadata": {},
   "outputs": [],
   "source": [
    "#Function gets m that is calculated the same way as it was calculated in treng_dir function\n",
    "def get_ength(quotes):\n",
    "    import pandas as pd\n",
    "    import matplotlib.dates as mdates\n",
    "    import numpy as np\n",
    "    _quotes = quotes\n",
    "    y = np.array(_quotes[['Open', 'High', 'Low', 'Close']]).ravel()\n",
    "    x = np.array(_quotes.index).ravel()\n",
    "    x = np.array([(lambda d: mdates.date2num(d))(d) for d in x for _ in (0,1,2,3)])\n",
    "    A = np.vstack([x, np.ones(len(x))]).T\n",
    "    m, c = np.linalg.lstsq(A, y, rcond=None)[0]\n",
    "    return m"
   ]
  },
  {
   "cell_type": "code",
   "execution_count": 9,
   "metadata": {},
   "outputs": [
    {
     "data": {
      "text/plain": [
       "-0.004381151746645721"
      ]
     },
     "execution_count": 9,
     "metadata": {},
     "output_type": "execute_result"
    }
   ],
   "source": [
    "get_ength(get_df(os.pardir, 'EURUSD', '1440'))"
   ]
  },
  {
   "cell_type": "code",
   "execution_count": 10,
   "metadata": {},
   "outputs": [
    {
     "name": "stdout",
     "output_type": "stream",
     "text": [
      "[0.00015139271255627622, 0.030076363611040473, 0.009798545452040851, 0.006116727272234097, 0.0032852727286320892, 0.0012104659950712049, 0.00015139271255627622, 0.00038988961038965135]\n",
      "0.002247869361851647 0.00015139271255627622 0.030076363611040473 0.006397506261815115\n"
     ]
    }
   ],
   "source": [
    "import os\n",
    "from numpy import median, mean\n",
    "m_in_EURUSD = []\n",
    "for cur_tf in timeframeList:\n",
    "    cur_df = get_df(os.getcwd(), 'EURUSD', cur_tf)\n",
    "    if  cur_df is not None:\n",
    "        m_in_EURUSD.append(abs(get_ength(cur_df)))\n",
    "print(m_in_EURUSD)\n",
    "print(median(m_in_EURUSD), min(m_in_EURUSD), max(m_in_EURUSD), mean(m_in_EURUSD))"
   ]
  },
  {
   "cell_type": "code",
   "execution_count": 11,
   "metadata": {},
   "outputs": [
    {
     "data": {
      "text/plain": [
       "False"
      ]
     },
     "execution_count": 11,
     "metadata": {},
     "output_type": "execute_result"
    }
   ],
   "source": [
    "#3.2 Trend of H4 has estimated strength\n",
    "median(m_in_EURUSD) < get_ength(get_df(os.pardir, 'EURUSD', '240'))"
   ]
  },
  {
   "cell_type": "code",
   "execution_count": 12,
   "metadata": {},
   "outputs": [
    {
     "name": "stdout",
     "output_type": "stream",
     "text": [
      "19    60.483871\n",
      "dtype: float64\n"
     ]
    }
   ],
   "source": [
    "#Calculating RSI to know that \"There is no signal of trend's change\"\n",
    "import numpy as np\n",
    "def RSI(series, period):\n",
    "    delta = series.diff().dropna()\n",
    "    u = delta * 0\n",
    "    d = u.copy()\n",
    "    u[delta > 0] = delta[delta > 0]\n",
    "    d[delta < 0] = -delta[delta < 0]\n",
    "    u[u.index[period-1]] = np.mean( u[:period] ) #first value is sum of avg gains\n",
    "    u = u.drop(u.index[:(period-1)])\n",
    "    d[d.index[period-1]] = np.mean( d[:period] ) #first value is sum of avg losses\n",
    "    d = d.drop(d.index[:(period-1)])\n",
    "    rs = u.ewm(com=period-1, adjust=False).mean() / d.ewm(com=period-1, adjust=False).mean()\n",
    "    return 100 - 100 / (1 + rs)\n",
    "\n",
    "\n",
    "#sample data from StockCharts\n",
    "data = pd.Series( [ 44.34, 44.09, 44.15, 43.61,\n",
    "                    44.33, 44.83, 45.10, 45.42,\n",
    "                    45.84, 46.08, 45.89, 46.03,\n",
    "                    45.61, 46.28, 46.28, 46.00,\n",
    "                    46.03, 46.41, 46.22, 45.64 ] )\n",
    "print (RSI( data, len(data)-1 ))"
   ]
  },
  {
   "cell_type": "code",
   "execution_count": 13,
   "metadata": {},
   "outputs": [
    {
     "name": "stdout",
     "output_type": "stream",
     "text": [
      "73140 135665 106499.09090909091 118724.0\n"
     ]
    }
   ],
   "source": [
    "mmm = get_df(os.pardir, 'EURUSD', '1440')['Tick_Vol']\n",
    "print(mmm.min(), mmm.max(), mmm.mean(), mmm.quantile(0.9))"
   ]
  },
  {
   "cell_type": "code",
   "execution_count": 14,
   "metadata": {},
   "outputs": [],
   "source": [
    "def check_price(price, time, m, c):\n",
    "    trend_dot = time * m + c\n",
    "    if (price>trend_dot)&(m<0):\n",
    "        return True\n",
    "    if (price<trend_dot)&(m>0):\n",
    "        return True\n",
    "    return False"
   ]
  },
  {
   "cell_type": "code",
   "execution_count": 23,
   "metadata": {},
   "outputs": [],
   "source": [
    "def traversal_fiveless(quotes):\n",
    "    import pandas as pd\n",
    "    import matplotlib.dates as mdates\n",
    "    import numpy as np\n",
    "    y = np.array(quotes[['Open', 'High', 'Low', 'Close']]).ravel()\n",
    "    x = np.array(quotes.index).ravel()\n",
    "    x = np.array([(lambda d: mdates.date2num(d))(d) for d in x for _ in (0,1,2,3)])\n",
    "    A = np.vstack([x, np.ones(len(x))]).T\n",
    "    m, c = np.linalg.lstsq(A, y, rcond=None)[0]\n",
    "    x_scale = pd.DataFrame(x).drop_duplicates()\n",
    "    primary = check_price(quotes.Close[0], x_scale[0].iloc[0], m, c)\n",
    "    traversal = 0\n",
    "    quotes['date_to_num'] = x_scale[0].values\n",
    "    for t in x_scale[0]:        t_prim = check_price(quotes.Close.loc[quotes['date_to_num'] == t].values[0], t, m, c)\n",
    "        if primary == t_prim:\n",
    "            continue\n",
    "        primary = t_prim\n",
    "        traversal += 1\n",
    "        if traversal > 4:\n",
    "            return False\n",
    "    return True\n",
    "        t_prim = check_price(quotes.Close.loc[quotes['date_to_num'] == t].values[0], t, m, c)\n",
    "        if primary == t_prim:\n",
    "            continue\n",
    "        primary = t_prim\n",
    "        traversal += 1\n",
    "        if traversal > 4:\n",
    "            return False\n",
    "    return True"
   ]
  },
  {
   "cell_type": "code",
   "execution_count": 44,
   "metadata": {},
   "outputs": [
    {
     "data": {
      "text/plain": [
       "True"
      ]
     },
     "execution_count": 44,
     "metadata": {},
     "output_type": "execute_result"
    }
   ],
   "source": [
    "traversal_fiveless(get_df(os.pardir, 'EURUSD', '1440'))"
   ]
  },
  {
   "cell_type": "code",
   "execution_count": null,
   "metadata": {},
   "outputs": [],
   "source": []
  }
 ],
 "metadata": {
  "kernelspec": {
   "display_name": "Python 3",
   "language": "python",
   "name": "python3"
  },
  "language_info": {
   "codemirror_mode": {
    "name": "ipython",
    "version": 3
   },
   "file_extension": ".py",
   "mimetype": "text/x-python",
   "name": "python",
   "nbconvert_exporter": "python",
   "pygments_lexer": "ipython3",
   "version": "3.7.6"
  }
 },
 "nbformat": 4,
 "nbformat_minor": 4
}
