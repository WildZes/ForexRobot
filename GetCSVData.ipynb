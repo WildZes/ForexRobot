{
 "cells": [
  {
   "cell_type": "code",
   "execution_count": 45,
   "metadata": {},
   "outputs": [
    {
     "name": "stdout",
     "output_type": "stream",
     "text": [
      "                  Date   Time     Open     High      Low    Close  Tick_Vol\n",
      "0     2012.04.11 00:00  00:00  1.58614  1.59370  1.58513  1.59043     73028\n",
      "1     2012.04.12 00:00  00:00  1.59037  1.59835  1.59013  1.59578     71598\n",
      "2     2012.04.13 00:00  00:00  1.59574  1.59685  1.58406  1.58444     66485\n",
      "3     2012.04.16 00:00  00:00  1.58462  1.59094  1.58180  1.58982     71388\n",
      "4     2012.04.17 00:00  00:00  1.58983  1.59691  1.58617  1.59228     63791\n",
      "...                ...    ...      ...      ...      ...      ...       ...\n",
      "2043  2020.02.28 00:00  00:00  1.28919  1.28972  1.27250  1.28204     71251\n",
      "2044  2020.03.02 00:00  00:00  1.28123  1.28500  1.27414  1.27518     94297\n",
      "2045  2020.03.03 00:00  00:00  1.27514  1.28433  1.27391  1.28107     84283\n",
      "2046  2020.03.04 00:00  00:00  1.28103  1.28716  1.27691  1.28706     67328\n",
      "2047  2020.03.05 00:00  00:00  1.28703  1.29301  1.28598  1.29083     31750\n",
      "\n",
      "[2048 rows x 7 columns]\n",
      "         Open\n",
      "0     1.58614\n",
      "1     1.59037\n",
      "2     1.59574\n",
      "3     1.58462\n",
      "4     1.58983\n",
      "...       ...\n",
      "2043  1.28919\n",
      "2044  1.28123\n",
      "2045  1.27514\n",
      "2046  1.28103\n",
      "2047  1.28703\n",
      "\n",
      "[2048 rows x 1 columns]\n"
     ]
    }
   ],
   "source": [
    "import pandas as pd\n",
    "col_names=['Date', 'Time','Open','High','Low','Close','Tick_Vol']\n",
    "df = pd.read_csv ('~/anaconda3/envs/FR/GBPUSD1440.csv',names=col_names)\n",
    "#df = pd.read_csv ('~/anaconda3/envs/FR/EURUSD240.csv',names=col_names,parse_dates=['Date','Time'])\n",
    "#period = [2020-2-25,2020-3-3]\n",
    "#df = df.loc[df['Date'].isin(period)]\n",
    "#print(df[22693-30:])\n",
    "#print(df['Time'])\n",
    "#mask = (df['Date'] > '2020-2-24') & (df['Date'] <= '2020-3-3')\n",
    "#print(df.loc[mask])\n",
    "#df=df.loc[mask]\n",
    "#df['DateTime'] = pd.to_datetime(df.pop('Date')) + pd.to_timedelta(df.pop('Time'))\n",
    "#df['Date'] = pd.to_datetime(df['Date'])\n",
    "#df['Time'] = pd.to_timedelta(df['Time'])\n",
    "df['Date'] = df['Date']+' '+df['Time']\n",
    "print(df)\n",
    "df['DateTime']=pd.to_datetime(df.pop('Date'))\n",
    "del df['Time']\n",
    "print(df.iloc[:,[0]])"
   ]
  },
  {
   "cell_type": "code",
   "execution_count": 46,
   "metadata": {},
   "outputs": [
    {
     "name": "stdout",
     "output_type": "stream",
     "text": [
      "               Open\n",
      "DateTime           \n",
      "2020-02-20  1.29223\n",
      "2020-02-21  1.28822\n",
      "2020-02-24  1.29449\n",
      "2020-02-25  1.29251\n",
      "2020-02-26  1.30037\n",
      "2020-02-27  1.28970\n",
      "2020-02-28  1.28919\n",
      "2020-03-02  1.28123\n",
      "2020-03-03  1.27514\n",
      "2020-03-04  1.28103\n",
      "2020-03-05  1.28703\n"
     ]
    }
   ],
   "source": [
    "quotes = df[-11:].set_index('DateTime')\n",
    "print(quotes.iloc[:,[0]])"
   ]
  },
  {
   "cell_type": "code",
   "execution_count": 29,
   "metadata": {},
   "outputs": [],
   "source": [
    "#Converting data\n",
    "\n",
    "def trend_dir(quotes):\n",
    "    import pandas as pd\n",
    "    import matplotlib.dates as mdates\n",
    "    import numpy as np\n",
    "    _quotes = quotes\n",
    "    y = np.array(_quotes[['Open', 'High', 'Low', 'Close']]).ravel()\n",
    "    x = np.array(_quotes.index).ravel()\n",
    "    x = np.array([(lambda d: mdates.date2num(d))(d) for d in x for _ in (0,1,2,3)])\n",
    "    A = np.vstack([x, np.ones(len(x))]).T\n",
    "    m, c = np.linalg.lstsq(A, y, rcond=None)[0]\n",
    "    if m < 0:\n",
    "        _dir = 2\n",
    "    elif m > 0:\n",
    "        _dir = 3\n",
    "    else:\n",
    "        _dir = 'flat' #have to organize check for sideway trend somehow\n",
    "    return _dir"
   ]
  },
  {
   "cell_type": "code",
   "execution_count": 51,
   "metadata": {},
   "outputs": [
    {
     "name": "stdout",
     "output_type": "stream",
     "text": [
      "DateTime\n",
      "2020-02-20    1.29275\n",
      "2020-02-21    1.29799\n",
      "2020-02-24    1.29539\n",
      "2020-02-25    1.30172\n",
      "2020-02-26    1.30072\n",
      "2020-02-27    1.29459\n",
      "2020-02-28    1.28972\n",
      "2020-03-02    1.28500\n",
      "2020-03-03    1.28433\n",
      "2020-03-04    1.28716\n",
      "2020-03-05    1.29301\n",
      "Name: High, dtype: float64\n",
      "[1.28482 1.28741 1.28859 1.29136 1.2897  1.28595 1.2725  1.27414 1.27391\n",
      " 1.27691 1.28598]\n"
     ]
    }
   ],
   "source": [
    "import matplotlib.dates as mdates\n",
    "import matplotlib.pyplot as plt\n",
    "import numpy as np\n",
    "quotes['Time2'] = quotes.index\n",
    "quotes['Time2'] = quotes['Time2'].apply(lambda d: mdates.date2num(d.to_pydatetime()))\n",
    "y = np.array([item for item in quotes.iloc[:,trend_dir(quotes)]])\n",
    "#y = np.array(quotes[['Open', 'High', 'Low', 'Close']]).ravel()\n",
    "#x = np.array(_quotes.index).ravel()\n",
    "print(quotes['High'])\n",
    "print(y)"
   ]
  },
  {
   "cell_type": "code",
   "execution_count": 4,
   "metadata": {},
   "outputs": [
    {
     "name": "stdout",
     "output_type": "stream",
     "text": [
      "[(737475.0, 1.29223, 1.29275, 1.28482, 1.28821), (737476.0, 1.2882200000000001, 1.29799, 1.28741, 1.29561), (737479.0, 1.29449, 1.29539, 1.28859, 1.2925), (737480.0, 1.29251, 1.30172, 1.29136, 1.30036), (737481.0, 1.30037, 1.30072, 1.2897, 1.2897), (737482.0, 1.2897, 1.29459, 1.28595, 1.28918), (737483.0, 1.28919, 1.28972, 1.2725, 1.28204), (737486.0, 1.2812299999999999, 1.285, 1.27414, 1.27518), (737487.0, 1.27514, 1.28433, 1.27391, 1.2810700000000002), (737488.0, 1.28103, 1.28716, 1.27691, 1.28706), (737489.0, 1.28703, 1.29301, 1.28598, 1.29083)]\n"
     ]
    }
   ],
   "source": [
    "tuples = [tuple(x) for x in quotes[['Time2', 'Open', 'High', 'Low',\n",
    "                                   'Close']].values]\n",
    "print(tuples)"
   ]
  },
  {
   "cell_type": "code",
   "execution_count": 5,
   "metadata": {},
   "outputs": [
    {
     "name": "stdout",
     "output_type": "stream",
     "text": [
      "['2020-02-20 00:00', '2020-02-21 00:00', '2020-02-24 00:00', '2020-02-25 00:00', '2020-02-26 00:00', '2020-02-27 00:00', '2020-02-28 00:00', '2020-03-02 00:00', '2020-03-03 00:00', '2020-03-04 00:00', '2020-03-05 00:00']\n"
     ]
    }
   ],
   "source": [
    "OX_ticks_str = [dateFef.strftime('%Y-%m-%d %H:%M') for dateFef in quotes.index]\n",
    "OX_ticks_pos = range(len(quotes['Time2']))\n",
    "print(OX_ticks_str)"
   ]
  },
  {
   "cell_type": "code",
   "execution_count": 6,
   "metadata": {},
   "outputs": [
    {
     "name": "stderr",
     "output_type": "stream",
     "text": [
      "/home/mrp/anaconda3/envs/FR/lib/python3.7/site-packages/mpl_finance.py:22: DeprecationWarning: \n",
      "\n",
      "  =================================================================\n",
      "\n",
      "   WARNING: `mpl_finance` is deprecated:\n",
      "\n",
      "    Please use `mplfinance` instead (no hyphen, no underscore).\n",
      "\n",
      "    To install: `pip install --upgrade mplfinance` \n",
      "\n",
      "   For more information, see: https://pypi.org/project/mplfinance/\n",
      "\n",
      "  =================================================================\n",
      "\n",
      "  category=DeprecationWarning)\n"
     ]
    },
    {
     "data": {
      "text/plain": [
       "([<matplotlib.lines.Line2D at 0x7fdedfc10ed0>,\n",
       "  <matplotlib.lines.Line2D at 0x7fdee06d7110>,\n",
       "  <matplotlib.lines.Line2D at 0x7fdedfbd6c50>,\n",
       "  <matplotlib.lines.Line2D at 0x7fdedfbd6d90>,\n",
       "  <matplotlib.lines.Line2D at 0x7fdedfc20ad0>,\n",
       "  <matplotlib.lines.Line2D at 0x7fdedfbe5c10>,\n",
       "  <matplotlib.lines.Line2D at 0x7fdedfbf0cd0>,\n",
       "  <matplotlib.lines.Line2D at 0x7fdedfbf0e50>,\n",
       "  <matplotlib.lines.Line2D at 0x7fdedfbfae10>,\n",
       "  <matplotlib.lines.Line2D at 0x7fdedfbe5bd0>,\n",
       "  <matplotlib.lines.Line2D at 0x7fdedfc04e50>],\n",
       " [<matplotlib.patches.Rectangle at 0x7fdedfc4dcd0>,\n",
       "  <matplotlib.patches.Rectangle at 0x7fdedfbd6690>,\n",
       "  <matplotlib.patches.Rectangle at 0x7fdedfbd6f10>,\n",
       "  <matplotlib.patches.Rectangle at 0x7fdedfbe57d0>,\n",
       "  <matplotlib.patches.Rectangle at 0x7fdedfbe5d50>,\n",
       "  <matplotlib.patches.Rectangle at 0x7fdedfbf0710>,\n",
       "  <matplotlib.patches.Rectangle at 0x7fdedfbf0f90>,\n",
       "  <matplotlib.patches.Rectangle at 0x7fdedfbfa850>,\n",
       "  <matplotlib.patches.Rectangle at 0x7fdedfc04110>,\n",
       "  <matplotlib.patches.Rectangle at 0x7fdedfc04890>,\n",
       "  <matplotlib.patches.Rectangle at 0x7fdedfb90150>])"
      ]
     },
     "execution_count": 6,
     "metadata": {},
     "output_type": "execute_result"
    },
    {
     "data": {
      "image/png": "[encoded data removed]",
      "text/plain": [
       "<Figure size 432x288 with 1 Axes>"
      ]
     },
     "metadata": {
      "needs_background": "light"
     },
     "output_type": "display_data"
    }
   ],
   "source": [
    "from mpl_finance import candlestick_ohlc as cohlc\n",
    "fig, ax = plt.subplots()\n",
    "ax.xaxis_date()\n",
    "ax.xaxis.set_major_formatter(mdates.DateFormatter(\"%Y-%m-%d %H:%M\"))\n",
    "plt.xticks(quotes.index, rotation=90)\n",
    "plt.xlabel('Date')\n",
    "plt.ylabel('Price')\n",
    "plt.title('EURUSD')\n",
    "cohlc(ax, tuples, width=.1, colorup='g', alpha=.4)"
   ]
  }
 ],
 "metadata": {
  "kernelspec": {
   "display_name": "Python 3",
   "language": "python",
   "name": "python3"
  },
  "language_info": {
   "codemirror_mode": {
    "name": "ipython",
    "version": 3
   },
   "file_extension": ".py",
   "mimetype": "text/x-python",
   "name": "python",
   "nbconvert_exporter": "python",
   "pygments_lexer": "ipython3",
   "version": "3.7.6"
  }
 },
 "nbformat": 4,
 "nbformat_minor": 4
}
